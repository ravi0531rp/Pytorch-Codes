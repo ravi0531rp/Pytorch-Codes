{
 "cells": [
  {
   "cell_type": "code",
   "execution_count": 1,
   "id": "360b9e44",
   "metadata": {},
   "outputs": [
    {
     "name": "stdout",
     "output_type": "stream",
     "text": [
      "Collecting pyhocon\n",
      "  Downloading pyhocon-0.3.58.tar.gz (114 kB)\n",
      "\u001b[K     |████████████████████████████████| 114 kB 1.3 MB/s eta 0:00:01\n",
      "\u001b[?25hRequirement already satisfied: pyparsing>=2.0.3 in /home/heisenberg/anaconda3/envs/TorchEnv/lib/python3.7/site-packages (from pyhocon) (3.0.4)\n",
      "Building wheels for collected packages: pyhocon\n",
      "  Building wheel for pyhocon (setup.py) ... \u001b[?25ldone\n",
      "\u001b[?25h  Created wheel for pyhocon: filename=pyhocon-0.3.58-py3-none-any.whl size=19890 sha256=d0c64625754d7e47c074df378f19cb89aa3b94a3cca021a7e48682d76c6e4784\n",
      "  Stored in directory: /home/heisenberg/.cache/pip/wheels/cb/20/f9/ff360765ce6f9fc078d6599c10a8f36496e5b5011a29df1ae3\n",
      "Successfully built pyhocon\n",
      "Installing collected packages: pyhocon\n",
      "Successfully installed pyhocon-0.3.58\n",
      "Note: you may need to restart the kernel to use updated packages.\n"
     ]
    }
   ],
   "source": [
    "pip install pyhocon"
   ]
  },
  {
   "cell_type": "code",
   "execution_count": 2,
   "id": "df2a33fa",
   "metadata": {},
   "outputs": [],
   "source": [
    "from pyhocon import ConfigFactory\n",
    "\n",
    "conf = ConfigFactory.parse_file('abc.conf')\n"
   ]
  },
  {
   "cell_type": "code",
   "execution_count": 3,
   "id": "37c46cd3",
   "metadata": {},
   "outputs": [
    {
     "data": {
      "text/plain": [
       "ConfigTree([('databases',\n",
       "             ConfigTree([('active', True),\n",
       "                         ('enable_logging', False),\n",
       "                         ('resolver', None),\n",
       "                         ('home_dir', '/home/heisenberg'),\n",
       "                         ('mysql',\n",
       "                          ConfigTree([('host', 'abc.com'),\n",
       "                                      ('port', 3306),\n",
       "                                      ('username', 'scott'),\n",
       "                                      ('password', 'tiger'),\n",
       "                                      ('retries', 3)])),\n",
       "                         ('ips',\n",
       "                          ['192.168.0.1', '192.168.0.2', '192.168.0.3'])])),\n",
       "            ('motd',\n",
       "             '\\n            Hello \"man\"!\\n            How is it going?\\n         '),\n",
       "            ('retries_msg', 'You have 3 retries')])"
      ]
     },
     "execution_count": 3,
     "metadata": {},
     "output_type": "execute_result"
    }
   ],
   "source": [
    "conf"
   ]
  },
  {
   "cell_type": "code",
   "execution_count": 4,
   "id": "42fa3d79",
   "metadata": {},
   "outputs": [
    {
     "data": {
      "text/plain": [
       "'true'"
      ]
     },
     "execution_count": 4,
     "metadata": {},
     "output_type": "execute_result"
    }
   ],
   "source": [
    "conf.get_string('databases.active')"
   ]
  },
  {
   "cell_type": "code",
   "execution_count": null,
   "id": "f99e5da3",
   "metadata": {},
   "outputs": [],
   "source": [
    "[('databases',\n",
    "             ConfigTree([('active', True),\n",
    "                         ('enable_logging', False),\n",
    "                         ('resolver', None),\n",
    "                         ('home_dir', '/home/heisenberg'),\n",
    "                         ('mysql',\n",
    "                          ConfigTree([('host', 'abc.com'),\n",
    "                                      ('port', 3306),\n",
    "                                      ('username', 'scott'),\n",
    "                                      ('password', 'tiger'),\n",
    "                                      ('retries', 3)])),\n",
    "                         ('ips',\n",
    "                          ['192.168.0.1', '192.168.0.2', '192.168.0.3'])])),\n",
    "            ('motd',\n",
    "             '\\n            Hello \"man\"!\\n            How is it going?\\n         '),\n",
    "            ('retries_msg', 'You have 3 retries')]"
   ]
  },
  {
   "cell_type": "code",
   "execution_count": null,
   "id": "aafaecb7",
   "metadata": {},
   "outputs": [],
   "source": [
    "host = conf.get_string('databases.mysql.host')\n",
    "same_host = conf.get('databases.mysql.host')\n",
    "same_host = conf['databases.mysql.host']\n",
    "same_host = conf['databases']['mysql.host']\n",
    "port = conf['databases.mysql.port']\n",
    "username = conf['databases']['mysql']['username']\n",
    "password = conf.get_config('databases')['mysql.password']\n",
    "password = conf.get('databases.mysql.password', 'default_password') #  use default value if key not found"
   ]
  }
 ],
 "metadata": {
  "kernelspec": {
   "display_name": "Python 3 (ipykernel)",
   "language": "python",
   "name": "python3"
  },
  "language_info": {
   "codemirror_mode": {
    "name": "ipython",
    "version": 3
   },
   "file_extension": ".py",
   "mimetype": "text/x-python",
   "name": "python",
   "nbconvert_exporter": "python",
   "pygments_lexer": "ipython3",
   "version": "3.7.11"
  }
 },
 "nbformat": 4,
 "nbformat_minor": 5
}
